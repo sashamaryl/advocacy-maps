{
 "cells": [
  {
   "cell_type": "code",
   "execution_count": 1,
   "metadata": {},
   "outputs": [],
   "source": [
    "import pandas as pd\n",
    "from datetime import datetime\n",
    "from dateutil.parser import parse\n",
    "import re\n",
    "from matplotlib import pyplot as plt"
   ]
  },
  {
   "cell_type": "code",
   "execution_count": 2,
   "metadata": {},
   "outputs": [
    {
     "data": {
      "text/plain": [
       "datetime.date(2022, 6, 1)"
      ]
     },
     "execution_count": 2,
     "metadata": {},
     "output_type": "execute_result"
    }
   ],
   "source": [
    "\n",
    "df = pd.DataFrame(pd.read_csv('../data/all-history-actions.csv'))\n",
    "\n",
    "fake_now = parse(\"6/1/2022\").date()\n",
    "\n",
    "fake_now"
   ]
  },
  {
   "cell_type": "code",
   "execution_count": 3,
   "metadata": {},
   "outputs": [
    {
     "data": {
      "text/html": [
       "<div>\n",
       "<style scoped>\n",
       "    .dataframe tbody tr th:only-of-type {\n",
       "        vertical-align: middle;\n",
       "    }\n",
       "\n",
       "    .dataframe tbody tr th {\n",
       "        vertical-align: top;\n",
       "    }\n",
       "\n",
       "    .dataframe thead th {\n",
       "        text-align: right;\n",
       "    }\n",
       "</style>\n",
       "<table border=\"1\" class=\"dataframe\">\n",
       "  <thead>\n",
       "    <tr style=\"text-align: right;\">\n",
       "      <th></th>\n",
       "      <th>id</th>\n",
       "      <th>action</th>\n",
       "      <th>branch</th>\n",
       "      <th>date</th>\n",
       "      <th>date_object</th>\n",
       "    </tr>\n",
       "  </thead>\n",
       "  <tbody>\n",
       "    <tr>\n",
       "      <th>count</th>\n",
       "      <td>6692</td>\n",
       "      <td>6692</td>\n",
       "      <td>6692</td>\n",
       "      <td>6692</td>\n",
       "      <td>6692</td>\n",
       "    </tr>\n",
       "    <tr>\n",
       "      <th>unique</th>\n",
       "      <td>2371</td>\n",
       "      <td>1581</td>\n",
       "      <td>4</td>\n",
       "      <td>1417</td>\n",
       "      <td>49</td>\n",
       "    </tr>\n",
       "    <tr>\n",
       "      <th>top</th>\n",
       "      <td>S3018</td>\n",
       "      <td>Senate concurred</td>\n",
       "      <td>House</td>\n",
       "      <td>2022-06-09T18:51:38.670Z</td>\n",
       "      <td>2022-06-09</td>\n",
       "    </tr>\n",
       "    <tr>\n",
       "      <th>freq</th>\n",
       "      <td>67</td>\n",
       "      <td>551</td>\n",
       "      <td>3666</td>\n",
       "      <td>399</td>\n",
       "      <td>895</td>\n",
       "    </tr>\n",
       "  </tbody>\n",
       "</table>\n",
       "</div>"
      ],
      "text/plain": [
       "           id            action branch                      date date_object\n",
       "count    6692              6692   6692                      6692        6692\n",
       "unique   2371              1581      4                      1417          49\n",
       "top     S3018  Senate concurred  House  2022-06-09T18:51:38.670Z  2022-06-09\n",
       "freq       67               551   3666                       399         895"
      ]
     },
     "execution_count": 3,
     "metadata": {},
     "output_type": "execute_result"
    }
   ],
   "source": [
    "df['date_object'] = df['date'].apply(lambda x : parse(x).date())\n",
    "\n",
    "df_past = df.loc[df['date_object'] > fake_now]\n",
    "\n",
    "df_past.describe()\n",
    "\n"
   ]
  },
  {
   "cell_type": "code",
   "execution_count": 4,
   "metadata": {},
   "outputs": [],
   "source": [
    "referred_to_committee = re.compile(\"(referred) to the committee\", re.IGNORECASE)\n",
    "reported_from_committee = re.compile(\"(reported)\", re.IGNORECASE)\n",
    "ways_and_means = re.compile(\"(ways) and means\", re.IGNORECASE)\n",
    "enacted = re.compile(\"(enacted)\", re.IGNORECASE)\n",
    "signed = re.compile(\"(signed)\", re.IGNORECASE)\n",
    "\n",
    "\n",
    "\n",
    "stages = [referred_to_committee, reported_from_committee, ways_and_means, enacted, signed]\n",
    "\n",
    "\n",
    "def match_stage(x):\n",
    "  for s in stages: \n",
    "    found = s.search(x)\n",
    "    if found is not None: \n",
    "      return found.group().lower() \n",
    "\n"
   ]
  },
  {
   "cell_type": "code",
   "execution_count": 5,
   "metadata": {},
   "outputs": [
    {
     "data": {
      "text/html": [
       "<div>\n",
       "<style scoped>\n",
       "    .dataframe tbody tr th:only-of-type {\n",
       "        vertical-align: middle;\n",
       "    }\n",
       "\n",
       "    .dataframe tbody tr th {\n",
       "        vertical-align: top;\n",
       "    }\n",
       "\n",
       "    .dataframe thead th {\n",
       "        text-align: right;\n",
       "    }\n",
       "</style>\n",
       "<table border=\"1\" class=\"dataframe\">\n",
       "  <thead>\n",
       "    <tr style=\"text-align: right;\">\n",
       "      <th></th>\n",
       "      <th>action</th>\n",
       "      <th>branch</th>\n",
       "      <th>date</th>\n",
       "      <th>date_object</th>\n",
       "    </tr>\n",
       "    <tr>\n",
       "      <th>stage</th>\n",
       "      <th></th>\n",
       "      <th></th>\n",
       "      <th></th>\n",
       "      <th></th>\n",
       "    </tr>\n",
       "  </thead>\n",
       "  <tbody>\n",
       "    <tr>\n",
       "      <th>enacted</th>\n",
       "      <td>30</td>\n",
       "      <td>30</td>\n",
       "      <td>30</td>\n",
       "      <td>30</td>\n",
       "    </tr>\n",
       "    <tr>\n",
       "      <th>referred to the committee</th>\n",
       "      <td>293</td>\n",
       "      <td>293</td>\n",
       "      <td>293</td>\n",
       "      <td>293</td>\n",
       "    </tr>\n",
       "    <tr>\n",
       "      <th>reported</th>\n",
       "      <td>39</td>\n",
       "      <td>39</td>\n",
       "      <td>39</td>\n",
       "      <td>39</td>\n",
       "    </tr>\n",
       "    <tr>\n",
       "      <th>signed</th>\n",
       "      <td>57</td>\n",
       "      <td>57</td>\n",
       "      <td>57</td>\n",
       "      <td>57</td>\n",
       "    </tr>\n",
       "    <tr>\n",
       "      <th>ways and means</th>\n",
       "      <td>2</td>\n",
       "      <td>2</td>\n",
       "      <td>2</td>\n",
       "      <td>2</td>\n",
       "    </tr>\n",
       "  </tbody>\n",
       "</table>\n",
       "</div>"
      ],
      "text/plain": [
       "                           action  branch  date  date_object\n",
       "stage                                                       \n",
       "enacted                        30      30    30           30\n",
       "referred to the committee     293     293   293          293\n",
       "reported                       39      39    39           39\n",
       "signed                         57      57    57           57\n",
       "ways and means                  2       2     2            2"
      ]
     },
     "execution_count": 5,
     "metadata": {},
     "output_type": "execute_result"
    }
   ],
   "source": [
    "\n",
    "\n",
    "df_actions= df_past.groupby('id').nth(-1)\n",
    "\n",
    "df_actions['stage'] = df_actions['action'].apply(lambda x: match_stage(x))\n",
    "\n",
    "df_actions.groupby(\"stage\").count()"
   ]
  },
  {
   "cell_type": "code",
   "execution_count": 6,
   "metadata": {},
   "outputs": [],
   "source": [
    " \n",
    "df['stage'] = df['action'].apply(lambda x: match_stage(x))\n",
    "\n",
    "\n",
    "dates = sorted(df.date_object.unique())\n"
   ]
  },
  {
   "cell_type": "code",
   "execution_count": 7,
   "metadata": {},
   "outputs": [],
   "source": [
    "\n",
    "\n",
    "dds = df[df['stage'].isnull() == False]\n"
   ]
  },
  {
   "cell_type": "code",
   "execution_count": 39,
   "metadata": {},
   "outputs": [
    {
     "name": "stderr",
     "output_type": "stream",
     "text": [
      "/tmp/ipykernel_61199/3886239326.py:19: SettingWithCopyWarning: \n",
      "A value is trying to be set on a copy of a slice from a DataFrame.\n",
      "Try using .loc[row_indexer,col_indexer] = value instead\n",
      "\n",
      "See the caveats in the documentation: https://pandas.pydata.org/pandas-docs/stable/user_guide/indexing.html#returning-a-view-versus-a-copy\n",
      "  dds_plot['x1'] = dds_plot[dds_plot.stage == 'enacted']['date']\n",
      "/tmp/ipykernel_61199/3886239326.py:20: SettingWithCopyWarning: \n",
      "A value is trying to be set on a copy of a slice from a DataFrame.\n",
      "Try using .loc[row_indexer,col_indexer] = value instead\n",
      "\n",
      "See the caveats in the documentation: https://pandas.pydata.org/pandas-docs/stable/user_guide/indexing.html#returning-a-view-versus-a-copy\n",
      "  dds_plot['x2'] = dds_plot[dds_plot.stage == 'ways and means']['date']\n",
      "/tmp/ipykernel_61199/3886239326.py:21: SettingWithCopyWarning: \n",
      "A value is trying to be set on a copy of a slice from a DataFrame.\n",
      "Try using .loc[row_indexer,col_indexer] = value instead\n",
      "\n",
      "See the caveats in the documentation: https://pandas.pydata.org/pandas-docs/stable/user_guide/indexing.html#returning-a-view-versus-a-copy\n",
      "  dds_plot['x3'] = dds_plot[dds_plot.stage == 'signed']['date']\n"
     ]
    }
   ],
   "source": [
    "from cProfile import label\n",
    "\n",
    "\n",
    "colors = {\n",
    "  \"enacted\": 'r',\n",
    "  \"referred to the committee\": 'g',\n",
    "  \"reported\": 'y',\n",
    "  \"signed\": 'b',\n",
    "  \"ways and means\": 'c'\n",
    "}\n",
    "\n",
    "def get_color(series): \n",
    "  return colors[series]\n",
    "\n",
    "dds_plot = dds #.loc[(dds.stage != 'referred to the committee') & (dds.stage != 'reported')]\n",
    "\n",
    "\n",
    "\n",
    "dds_plot['x1'] = dds_plot[dds_plot.stage == 'enacted']['date']\n",
    "dds_plot['x2'] = dds_plot[dds_plot.stage == 'ways and means']['date']\n",
    "dds_plot['x3'] = dds_plot[dds_plot.stage == 'signed']['date']\n",
    "\n",
    "\n",
    "y = dds_plot['id']\n",
    "x = dds_plot['date']\n",
    "\n",
    "color = dds_plot['stage'].apply(lambda x: colors[x])\n",
    "\n"
   ]
  },
  {
   "cell_type": "code",
   "execution_count": 40,
   "metadata": {},
   "outputs": [
    {
     "data": {
      "image/png": "[encoded data removed]",
      "text/plain": [
       "<Figure size 1440x1440 with 1 Axes>"
      ]
     },
     "metadata": {
      "needs_background": "light"
     },
     "output_type": "display_data"
    }
   ],
   "source": [
    "\n",
    "fig = plt.figure()\n",
    "fig.set_figheight(20)\n",
    "fig.set_figwidth(20)\n",
    "\n",
    "x1 = dds_plot.x1\n",
    "\n",
    "group_ids = dds_plot.groupby('id')\n",
    "\n",
    "for i, g in group_ids: \n",
    "  plt.plot([b for b in g.id], [b for b in g.stage])\n",
    "\n",
    "# plt.scatter(x, y, c=color)\n",
    "\n",
    "plt.show()\n",
    "\n"
   ]
  }
 ],
 "metadata": {
  "kernelspec": {
   "display_name": "Python 3.10.5 64-bit ('dtp-3.10.5')",
   "language": "python",
   "name": "python3"
  },
  "language_info": {
   "codemirror_mode": {
    "name": "ipython",
    "version": 3
   },
   "file_extension": ".py",
   "mimetype": "text/x-python",
   "name": "python",
   "nbconvert_exporter": "python",
   "pygments_lexer": "ipython3",
   "version": "3.10.5"
  },
  "orig_nbformat": 4,
  "vscode": {
   "interpreter": {
    "hash": "41ccea4113905be90afe5235ea69b426ee1bb822ec56a75c85a3b01de3acf781"
   }
  }
 },
 "nbformat": 4,
 "nbformat_minor": 2
}
