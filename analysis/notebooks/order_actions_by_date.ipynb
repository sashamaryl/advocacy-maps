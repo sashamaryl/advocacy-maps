{
 "cells": [
  {
   "cell_type": "code",
   "execution_count": 16,
   "metadata": {},
   "outputs": [],
   "source": [
    "from analysis import *"
   ]
  },
  {
   "cell_type": "code",
   "execution_count": 130,
   "metadata": {},
   "outputs": [
    {
     "data": {
      "text/plain": [
       "[{'source': 'H4459', 'target': 'S2289'},\n",
       " {'source': 'H4459', 'target': 'H3456'}]"
      ]
     },
     "metadata": {},
     "output_type": "display_data"
    }
   ],
   "source": [
    "from array import array\n",
    "import json\n",
    "\n",
    "\n",
    "\n",
    "class Action: \n",
    "  \n",
    "  counter = 0\n",
    "  \n",
    "  def __init__(self, action) -> None:\n",
    "    self.action_id = Action.counter\n",
    "    self.bill_id = action.id\n",
    "    self.branch = action.branch\n",
    "    self.action = action.action\n",
    "    self.date = action.date\n",
    "    self.connections = findBillNum.findall(self.action)\n",
    "    Action.counter += 1\n",
    "    \n",
    "  def string(self): \n",
    "    return \"{date} {id} {branch} {action} {connections}\".format(id = self.bill_id, branch = self.branch, action = self.action, date = self.date, connections = self.connections)\n",
    "  \n",
    "  def to_node(self):\n",
    "    return {\n",
    "      \"action_id\": self.action_id,\n",
    "      \"bill_id\": self.bill_id, \n",
    "      \"branch\": self.branch, \n",
    "      \"action\": self.action, \n",
    "      \"date\": self.date, \n",
    "      \"connections\": self.connections\n",
    "    }\n",
    "    \n",
    "    \n",
    "class Bill: \n",
    "  def __init__(self, bill):\n",
    "    self.id = bill\n",
    "    self.history = getHistory(bill)\n",
    "    self.actions = []\n",
    "    self.connections = []\n",
    "    \n",
    "    \n",
    "    for a in self.history: \n",
    "      action = Action(a)\n",
    "      self.actions.append(action)\n",
    "      self.connections.extend(action.connections)\n",
    "      \n",
    "\n",
    "  \n",
    "bills = [Bill(x) for x in  collectConnections('H4461')]\n",
    "\n",
    "\n",
    "all_actions = []\n",
    "\n",
    "for bill in bills: \n",
    "  all_actions.extend(bill.actions)\n",
    "\n",
    "date_ordered_actions = sorted(all_actions, key=lambda x: x.date)\n",
    "\n",
    "\n",
    "nodes = [json.dumps(x.to_node()) for x in date_ordered_actions]\n",
    "\n",
    "# display(nodes)\n",
    "\n",
    "\n",
    "links = []\n",
    "\n",
    "for n in date_ordered_actions: \n",
    "  if len(n.connections) > 1:\n",
    "    links.extend([{\"source\": n.bill_id, \"target\": x} for x in n.connections])\n",
    "\n",
    "display(links)\n"
   ]
  }
 ],
 "metadata": {
  "kernelspec": {
   "display_name": "Python 3.10.5 64-bit ('dtp-3.10.5')",
   "language": "python",
   "name": "python3"
  },
  "language_info": {
   "name": "python",
   "version": "3.10.5"
  },
  "orig_nbformat": 4,
  "vscode": {
   "interpreter": {
    "hash": "41ccea4113905be90afe5235ea69b426ee1bb822ec56a75c85a3b01de3acf781"
   }
  }
 },
 "nbformat": 4,
 "nbformat_minor": 2
}
