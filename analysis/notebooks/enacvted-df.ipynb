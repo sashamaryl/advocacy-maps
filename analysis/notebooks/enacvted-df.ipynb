{
 "cells": [
  {
   "cell_type": "code",
   "execution_count": 1,
   "metadata": {},
   "outputs": [],
   "source": [
    "import pandas as pd"
   ]
  },
  {
   "cell_type": "code",
   "execution_count": 3,
   "metadata": {},
   "outputs": [],
   "source": [
    "df = pd.read_json(\"../data/enacted.json\")"
   ]
  },
  {
   "cell_type": "code",
   "execution_count": 14,
   "metadata": {},
   "outputs": [],
   "source": [
    "df[\"yeas\"] = df['info'].str.extract(r\"(.*) YEAS\")\n",
    "df[\"nays\"] = df['info'].str.extract(r\"to (.*) NAYS\")\n",
    "\n",
    "f = open(\"../data/enacted-votes.json\", \"w\")\n",
    "f.write(df.T.to_json())\n",
    "f.close()"
   ]
  }
 ],
 "metadata": {
  "kernelspec": {
   "display_name": "Python 3.10.5 64-bit ('dtp-3.10.5')",
   "language": "python",
   "name": "python3"
  },
  "language_info": {
   "codemirror_mode": {
    "name": "ipython",
    "version": 3
   },
   "file_extension": ".py",
   "mimetype": "text/x-python",
   "name": "python",
   "nbconvert_exporter": "python",
   "pygments_lexer": "ipython3",
   "version": "3.10.5"
  },
  "orig_nbformat": 4,
  "vscode": {
   "interpreter": {
    "hash": "41ccea4113905be90afe5235ea69b426ee1bb822ec56a75c85a3b01de3acf781"
   }
  }
 },
 "nbformat": 4,
 "nbformat_minor": 2
}
