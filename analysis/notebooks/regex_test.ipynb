{
 "cells": [
  {
   "cell_type": "code",
   "execution_count": 2,
   "metadata": {},
   "outputs": [],
   "source": [
    "from analysis import actions\n",
    "import re"
   ]
  },
  {
   "cell_type": "code",
   "execution_count": 34,
   "metadata": {},
   "outputs": [
    {
     "name": "stdout",
     "output_type": "stream",
     "text": [
      "('reported favorably',)\n",
      "('reported favorably',)\n",
      "('reported that',)\n",
      "('reported favorably',)\n"
     ]
    },
    {
     "data": {
      "text/plain": [
       "{'H1': ['referred', 'H4000'],\n",
       " 'H10': ['referred',\n",
       "  'hearing scheduled',\n",
       "  'hearing scheduled',\n",
       "  'reported favorably'],\n",
       " 'H100': ['referred',\n",
       "  'reported favorably',\n",
       "  'reported that',\n",
       "  'Read second',\n",
       "  'engrossed',\n",
       "  'Read third',\n",
       "  'Read,',\n",
       "  'read second',\n",
       "  'engrossed',\n",
       "  'Read third',\n",
       "  'enacted',\n",
       "  'enacted'],\n",
       " 'H1000': ['referred', 'hearing scheduled'],\n",
       " 'H1001': ['referred', 'hearing scheduled'],\n",
       " 'H1002': ['referred', 'hearing scheduled', 'H4784'],\n",
       " 'H1003': ['referred', 'hearing scheduled'],\n",
       " 'H1004': ['referred', 'hearing scheduled'],\n",
       " 'H1005': ['referred', 'hearing scheduled'],\n",
       " 'H1006': ['referred', 'hearing scheduled'],\n",
       " 'H1007': ['referred', 'hearing scheduled', 'S2880'],\n",
       " 'H1008': ['referred', 'hearing scheduled'],\n",
       " 'H1009': ['referred', 'hearing scheduled', 'H4598'],\n",
       " 'H101': ['referred', 'hearing scheduled'],\n",
       " 'H1010': ['referred', 'hearing scheduled'],\n",
       " 'H1011': ['referred', 'hearing scheduled'],\n",
       " 'H1012': ['referred', 'hearing scheduled'],\n",
       " 'H1013': ['referred', 'hearing scheduled', 'H1014'],\n",
       " 'H1014': ['referred', 'hearing scheduled', 'H1013', 'reported favorably'],\n",
       " 'H1015': ['referred', 'hearing scheduled'],\n",
       " 'H1016': ['referred', 'hearing scheduled'],\n",
       " 'H1017': ['referred', 'hearing scheduled', 'H4599'],\n",
       " 'H1018': ['referred', 'hearing scheduled']}"
      ]
     },
     "metadata": {},
     "output_type": "display_data"
    }
   ],
   "source": [
    "\n",
    "\n",
    "def regex(string):\n",
    "  matcher = re.compile(string, re.IGNORECASE)\n",
    "  \n",
    "  return lambda x : matcher.search(x)\n",
    "\n",
    "\n",
    "collected = {}\n",
    "\n",
    "\n",
    "def referred(action):\n",
    "  return regex(\"^referred\")(action)\n",
    "\n",
    "\n",
    "def scheduled(action): \n",
    "  return regex(\"scheduled\")(action)\n",
    "\n",
    "\n",
    "def read(action):\n",
    "    return re.compile(\"(read[.,;']|read second|read third)\", re.IGNORECASE).findall(action)\n",
    "\n",
    "def reported(action): \n",
    "    return re.compile(\"(reported \\w+)\", re.IGNORECASE).search(action)\n",
    "\n",
    "\n",
    "for i in actions[:100]:\n",
    "  if i.id not in collected:\n",
    "    collected[i.id] = []\n",
    "  if referred(i.action):\n",
    "    collected[i.id].append(\"referred\")\n",
    "  if scheduled(i.action):\n",
    "    collected[i.id].append(\"hearing scheduled\")\n",
    "  reading = regex(\"(read first|second)\")(i.action)\n",
    "  if regex(\"engrossed\")(i.action):\n",
    "    collected[i.id].append(\"engrossed\")\n",
    "  if regex(\"enacted\")(i.action):\n",
    "    collected[i.id].append(\"enacted\")\n",
    "  connected = regex(\"([HS]\\d{4})\")(i.action)\n",
    "  if connected: \n",
    "    collected[i.id].append(connected.group())\n",
    "  readings = read(i.action)\n",
    "  if readings: \n",
    "    collected[i.id].extend(readings)\n",
    "  report = reported(i.action)\n",
    "  if report:\n",
    "    print(report.groups())\n",
    "    collected[i.id].append(report.group())\n",
    "\n",
    "\n",
    "display(collected)"
   ]
  },
  {
   "cell_type": "code",
   "execution_count": 10,
   "metadata": {},
   "outputs": [
    {
     "name": "stdout",
     "output_type": "stream",
     "text": [
      "H1 Referred to the committee on House Ways and Means\n",
      "H1 Reported, in part, by H4000\n",
      "H10 Referred to the committee on Public Service\n",
      "H10 Senate concurred\n",
      "H10 Hearing scheduled for 07/28/2021 from 01:00 PM-04:00 PM in Virtual Hearing\n",
      "H10 Hearing rescheduled to 07/28/2021 from 09:30 AM-12:00 PM in Virtual Hearing\n",
      "H10 Bill reported favorably by committee and referred to the committee on House Ways and Means\n",
      "H100 Referred to the committee on The Judiciary\n",
      "H100 Senate concurred\n",
      "H100 Bill reported favorably by committee and referred to the committee on House Steering, Policy and Scheduling\n",
      "H100 Committee reported that the matter be placed in the Orders of the Day for the next sitting for a second reading\n",
      "H100 Read second and ordered to a third reading\n",
      "H100 Read third and passed to be engrossed\n",
      "H100 Read, rules suspended, read second and ordered to a third reading\n",
      "H100 Taken out of the Orders of the Day\n",
      "H100 Read third (title changed) and passed to be engrossed\n",
      "H100 Emergency preamble adopted\n",
      "H100 Emergency preamble adopted\n",
      "H100 Enacted\n",
      "H100 Enacted and laid before the Governor\n"
     ]
    }
   ],
   "source": [
    "for i in actions[:20]:\n",
    "  print(i.id, i.action)\n"
   ]
  },
  {
   "cell_type": "code",
   "execution_count": null,
   "metadata": {},
   "outputs": [],
   "source": []
  }
 ],
 "metadata": {
  "kernelspec": {
   "display_name": "Python 3.10.5 64-bit ('dtp-3.10.5')",
   "language": "python",
   "name": "python3"
  },
  "language_info": {
   "codemirror_mode": {
    "name": "ipython",
    "version": 3
   },
   "file_extension": ".py",
   "mimetype": "text/x-python",
   "name": "python",
   "nbconvert_exporter": "python",
   "pygments_lexer": "ipython3",
   "version": "3.10.5"
  },
  "orig_nbformat": 4,
  "vscode": {
   "interpreter": {
    "hash": "41ccea4113905be90afe5235ea69b426ee1bb822ec56a75c85a3b01de3acf781"
   }
  }
 },
 "nbformat": 4,
 "nbformat_minor": 2
}
