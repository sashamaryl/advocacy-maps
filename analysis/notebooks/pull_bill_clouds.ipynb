{
 "cells": [
  {
   "cell_type": "markdown",
   "metadata": {},
   "source": [
    "This notebook finds connected bills and displays their connections. "
   ]
  },
  {
   "cell_type": "code",
   "execution_count": 9,
   "metadata": {},
   "outputs": [],
   "source": [
    "from analysis import *"
   ]
  },
  {
   "cell_type": "code",
   "execution_count": 4,
   "metadata": {},
   "outputs": [],
   "source": [
    "bill_number = 'H3302'"
   ]
  },
  {
   "cell_type": "code",
   "execution_count": 8,
   "metadata": {},
   "outputs": [
    {
     "data": {
      "text/plain": [
       "['H1', 'Referred to the committee on House Ways and Means']"
      ]
     },
     "metadata": {},
     "output_type": "display_data"
    },
    {
     "data": {
      "text/plain": [
       "['H1', 'Reported, in part, by H4000']"
      ]
     },
     "metadata": {},
     "output_type": "display_data"
    },
    {
     "data": {
      "text/plain": [
       "['H10', 'Referred to the committee on Public Service']"
      ]
     },
     "metadata": {},
     "output_type": "display_data"
    },
    {
     "data": {
      "text/plain": [
       "['H10', 'Senate concurred']"
      ]
     },
     "metadata": {},
     "output_type": "display_data"
    }
   ],
   "source": [
    "# Print all the history of all bills connected to the input bill.\n",
    "# \n",
    "# Bills are connected if a history action references a bill ID.\n",
    "# \n",
    "# Any connection should show up in both bill histories. For example \"Accompanied\n",
    "# H1234\" in S5678 and \"Accompanied by S5678\" in H1234.\n",
    "\n",
    "connections = collectConnections(bill_number)\n",
    "print_with_stats(connections)\n",
    "\n",
    "\n",
    "\n"
   ]
  },
  {
   "cell_type": "code",
   "execution_count": 6,
   "metadata": {},
   "outputs": [
    {
     "name": "stdout",
     "output_type": "stream",
     "text": [
      "H3302 ['H4348']\n",
      "H4348 ['S2227', 'H3302', 'H4204', 'H3294', 'H3310', 'H3313', 'H4515', 'H3328']\n",
      "None\n"
     ]
    },
    {
     "data": {
      "text/plain": [
       "['https://mapletestimony.org/bill?id=H3302',\n",
       " 'https://mapletestimony.org/bill?id=S590',\n",
       " 'https://mapletestimony.org/bill?id=S2203',\n",
       " 'https://mapletestimony.org/bill?id=S2738',\n",
       " 'https://mapletestimony.org/bill?id=S2819',\n",
       " 'https://mapletestimony.org/bill?id=H3310',\n",
       " 'https://mapletestimony.org/bill?id=H3313',\n",
       " 'https://mapletestimony.org/bill?id=S2180',\n",
       " 'https://mapletestimony.org/bill?id=S2145',\n",
       " 'https://mapletestimony.org/bill?id=S2227',\n",
       " 'https://mapletestimony.org/bill?id=H5141',\n",
       " 'https://mapletestimony.org/bill?id=S2130',\n",
       " 'https://mapletestimony.org/bill?id=H3294',\n",
       " 'https://mapletestimony.org/bill?id=H3328',\n",
       " 'https://mapletestimony.org/bill?id=S2192',\n",
       " 'https://mapletestimony.org/bill?id=H4524',\n",
       " 'https://mapletestimony.org/bill?id=H4204',\n",
       " 'https://mapletestimony.org/bill?id=S2842',\n",
       " 'https://mapletestimony.org/bill?id=S2197',\n",
       " 'https://mapletestimony.org/bill?id=H4515',\n",
       " 'https://mapletestimony.org/bill?id=H5060',\n",
       " 'https://mapletestimony.org/bill?id=S1333',\n",
       " 'https://mapletestimony.org/bill?id=S2220',\n",
       " 'https://mapletestimony.org/bill?id=H4348',\n",
       " 'https://mapletestimony.org/bill?id=S2150']"
      ]
     },
     "metadata": {},
     "output_type": "display_data"
    }
   ],
   "source": [
    "\n",
    "# Find all the bills directly connected to the input bill and print them, and\n",
    "# their direct connection.\n",
    "from analysis import get_bills_urls\n",
    "from analysis import collectConnections\n",
    "\n",
    "def get_direct_connections(bill_num):\n",
    "  return list(getReferencedBills(getHistory(bill_num)))\n",
    "\n",
    "def get_bill_cloud(bill_num):\n",
    "    r = get_direct_connections(bill_num)\n",
    "    print(bill_num,r)\n",
    "    for c in r: \n",
    "      p = get_direct_connections(c)\n",
    "      print(c, p)\n",
    "\n",
    "print(get_bill_cloud(bill_number))\n",
    "# display(list(collectConnections(bill_number)))\n",
    "billnums_list = [bill_number] + list(collectConnections(bill_number))\n",
    "urls = get_bills_urls(billnums_list)\n",
    "\n",
    "\n",
    "display(urls)"
   ]
  }
 ],
 "metadata": {
  "kernelspec": {
   "display_name": "Python 3.10.5 64-bit ('dtp-3.10.5')",
   "language": "python",
   "name": "python3"
  },
  "language_info": {
   "codemirror_mode": {
    "name": "ipython",
    "version": 3
   },
   "file_extension": ".py",
   "mimetype": "text/x-python",
   "name": "python",
   "nbconvert_exporter": "python",
   "pygments_lexer": "ipython3",
   "version": "3.10.5"
  },
  "orig_nbformat": 4,
  "vscode": {
   "interpreter": {
    "hash": "41ccea4113905be90afe5235ea69b426ee1bb822ec56a75c85a3b01de3acf781"
   }
  }
 },
 "nbformat": 4,
 "nbformat_minor": 2
}
