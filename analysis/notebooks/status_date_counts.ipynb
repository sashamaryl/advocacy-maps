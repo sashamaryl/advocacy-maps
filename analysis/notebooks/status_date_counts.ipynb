{
 "cells": [
  {
   "cell_type": "code",
   "execution_count": 2,
   "metadata": {},
   "outputs": [],
   "source": [
    "from itertools import chain\n",
    "from dateutil.parser import parse\n",
    "from datetime import datetime\n",
    "import pandas as pd\n",
    "import re\n",
    "\n",
    "to_namedtuple = lambda x: list(x.itertuples())\n",
    "df = pd.read_csv('../data/all-history-actions.csv')\n",
    "actions = to_namedtuple(df)\n",
    "findBillNum = re.compile('([HS]\\d{1,5})')\n",
    "\n"
   ]
  },
  {
   "cell_type": "code",
   "execution_count": 38,
   "metadata": {},
   "outputs": [],
   "source": [
    "accompanied = re.compile(\"accompanied\", re.IGNORECASE)\n",
    "bill_num = re.compile(\"[HS]\\d{1,5}\", re.IGNORECASE)\n",
    "referred_to_committee = re.compile(\"referred to the committee\", re.IGNORECASE)\n",
    "joint_ways_and_means = re.compile(\"committee on house ways and means\", re.IGNORECASE)\n"
   ]
  },
  {
   "cell_type": "code",
   "execution_count": 39,
   "metadata": {},
   "outputs": [],
   "source": [
    "\n",
    "\n",
    "result = df.loc[df['action'].apply(lambda x : joint_ways_and_means.match(x) != None)]\n",
    "\n",
    "lines = result[['action', 'branch']]\n",
    "\n",
    "\n",
    "for i, l in result[['action', 'branch']].iterrows(): \n",
    "  print(l)"
   ]
  },
  {
   "cell_type": "code",
   "execution_count": null,
   "metadata": {},
   "outputs": [],
   "source": []
  }
 ],
 "metadata": {
  "kernelspec": {
   "display_name": "Python 3.10.5 64-bit ('dtp-3.10.5')",
   "language": "python",
   "name": "python3"
  },
  "language_info": {
   "codemirror_mode": {
    "name": "ipython",
    "version": 3
   },
   "file_extension": ".py",
   "mimetype": "text/x-python",
   "name": "python",
   "nbconvert_exporter": "python",
   "pygments_lexer": "ipython3",
   "version": "3.10.5"
  },
  "orig_nbformat": 4,
  "vscode": {
   "interpreter": {
    "hash": "41ccea4113905be90afe5235ea69b426ee1bb822ec56a75c85a3b01de3acf781"
   }
  }
 },
 "nbformat": 4,
 "nbformat_minor": 2
}
